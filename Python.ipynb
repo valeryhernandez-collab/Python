{
  "nbformat": 4,
  "nbformat_minor": 0,
  "metadata": {
    "colab": {
      "provenance": [],
      "authorship_tag": "ABX9TyMgzAFkHYmgwiBEg5Eg2lwG",
      "include_colab_link": true
    },
    "kernelspec": {
      "name": "python3",
      "display_name": "Python 3"
    },
    "language_info": {
      "name": "python"
    }
  },
  "cells": [
    {
      "cell_type": "markdown",
      "metadata": {
        "id": "view-in-github",
        "colab_type": "text"
      },
      "source": [
        "<a href=\"https://colab.research.google.com/github/valeryhernandez-collab/Python/blob/main/Python.ipynb\" target=\"_parent\"><img src=\"https://colab.research.google.com/assets/colab-badge.svg\" alt=\"Open In Colab\"/></a>"
      ]
    },
    {
      "cell_type": "code",
      "execution_count": null,
      "metadata": {
        "id": "DdJBVuHDqAtx",
        "outputId": "88bfe41b-a69f-4b02-cec6-41a5e224fc3a",
        "colab": {
          "base_uri": "https://localhost:8080/"
        }
      },
      "outputs": [
        {
          "output_type": "stream",
          "name": "stdout",
          "text": [
            "Everything can change if you learn to change\n"
          ]
        }
      ],
      "source": [
        "print(\"Everything can change if you learn to change\")"
      ]
    },
    {
      "cell_type": "code",
      "source": [
        "solution = \"How could I change, if I have no clue?\"\n",
        "\n",
        "print(solution, \"I already said it!\")"
      ],
      "metadata": {
        "id": "H3HwUgG4dZwN",
        "outputId": "1af42bac-9953-4265-aa8d-cbf801f770bb",
        "colab": {
          "base_uri": "https://localhost:8080/"
        }
      },
      "execution_count": 6,
      "outputs": [
        {
          "output_type": "stream",
          "name": "stdout",
          "text": [
            "How could I change, if I have no clue? I already said it!\n"
          ]
        }
      ]
    },
    {
      "cell_type": "code",
      "source": [
        "print(f\"{solution} I already said it!\")"
      ],
      "metadata": {
        "id": "FUM0nnUveJau",
        "outputId": "3e5e26c9-b1e1-4060-f3a7-d02d650a87ab",
        "colab": {
          "base_uri": "https://localhost:8080/"
        }
      },
      "execution_count": null,
      "outputs": [
        {
          "output_type": "stream",
          "name": "stdout",
          "text": [
            "How could I change, if I have no clue? I already said it!\n"
          ]
        }
      ]
    }
  ]
}